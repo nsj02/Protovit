{
 "cells": [
  {
   "cell_type": "code",
   "execution_count": 40,
   "id": "e3dfed37",
   "metadata": {},
   "outputs": [],
   "source": [
    "# 데이터 분할과 이미지 복사를 위해 필요한 모듈을 불러옵니다.\n",
    "import torch \n",
    "import os \n",
    "import matplotlib.pyplot as plt \n",
    "import shutil\n",
    "from tqdm import tqdm\n",
    "from PIL import Image "
   ]
  },
  {
   "cell_type": "code",
   "execution_count": 23,
   "id": "ea9876f3",
   "metadata": {},
   "outputs": [],
   "source": [
    "# images.txt에서 이미지 ID와 경로를 읽어 매핑합니다.\n",
    "index_loc = r\".\\CUB_200_2011\\CUB_200_2011\\images.txt\"\n",
    "index_dict = open(index_loc, 'r')"
   ]
  },
  {
   "cell_type": "code",
   "execution_count": 27,
   "id": "d12c49e2",
   "metadata": {},
   "outputs": [],
   "source": [
    "# images.txt에서 이미지 ID와 경로를 읽어 매핑합니다.\n",
    "index_loc = r\".\\CUB_200_2011\\CUB_200_2011\\images.txt\"\n",
    "index_dict = open(index_loc, 'r')\n",
    "index = {}\n",
    "img_loc = r\".\\CUB_200_2011\\CUB_200_2011\\images\"\n",
    "for line in index_dict.readlines():\n",
    "    word = line.split()\n",
    "    #print(word)\n",
    "    key = int(word[0])\n",
    "    image_address = os.path.join(img_loc, word[1])\n",
    "    index[key] = image_address"
   ]
  },
  {
   "cell_type": "code",
   "execution_count": 29,
   "id": "cd833ee1",
   "metadata": {},
   "outputs": [],
   "source": [
    "# image_class_labels.txt에서 이미지 ID->클래스 라벨 매핑을 구성합니다.\n",
    "label_loc = r\".\\CUB_200_2011\\CUB_200_2011\\image_class_labels.txt\"\n",
    "label_dict = {}\n",
    "for line in open(label_loc, 'r').readlines():\n",
    "    word = line.split()\n",
    "    key = int(word[0])\n",
    "    label_dict[key] = int(word[1])"
   ]
  },
  {
   "cell_type": "code",
   "execution_count": 33,
   "id": "74753358",
   "metadata": {},
   "outputs": [],
   "source": [
    "# classes.txt에서 클래스 이름 레퍼런스를 읽어옵니다.\n",
    "class_ref = {}\n",
    "ref_loc = r\".\\CUB_200_2011\\CUB_200_2011\\classes.txt\"\n",
    "for line in open(ref_loc, 'r').readlines():\n",
    "    word = line.split()\n",
    "    key = int(word[0])\n",
    "    class_ref[key] = word[1]"
   ]
  },
  {
   "cell_type": "code",
   "execution_count": 36,
   "id": "f2541170",
   "metadata": {},
   "outputs": [],
   "source": [
    "# train_test_split.txt에서 각 샘플이 train/test 중 어디에 속하는지 파악합니다.\n",
    "split_loc = r\".\\CUB_200_2011\\CUB_200_2011\\train_test_split.txt\"\n",
    "train_dict = {}\n",
    "for line in open(split_loc, 'r').readlines():\n",
    "    word = line.split()\n",
    "    key = int(word[0])\n",
    "    train_dict[key] = int(word[1])"
   ]
  },
  {
   "cell_type": "code",
   "execution_count": 41,
   "id": "67b4bed3",
   "metadata": {},
   "outputs": [
    {
     "name": "stderr",
     "output_type": "stream",
     "text": [
      "100%|██████████| 11788/11788 [13:13<00:00, 14.86it/s]\n"
     ]
    }
   ],
   "source": [
    "# 원본 이미지 목록을 순회하면서 train/test 폴더에 이미지 파일을 복사합니다.\n",
    "for i in tqdm(index):\n",
    "    root = index[i]\n",
    "    img = Image.open(root)\n",
    "    name = index[i].split('/')[-1]\n",
    "    label = label_dict[i]\n",
    "    train = train_dict[i]\n",
    "    reference = class_ref[label].replace('.','_')\n",
    "    if train ==0:\n",
    "        file_name =r\".\\CUB_2011_200_uncropped\\train\"\n",
    "    elif train ==1:\n",
    "        file_name = r\".\\CUB_2011_200_uncropped\\test\"\n",
    "    doc_root = os.path.join(file_name,reference)\n",
    "    if not os.path.exists(doc_root):\n",
    "        os.makedirs(doc_root)\n",
    "    image_root = os.path.join(doc_root, name)\n",
    "    img.save(image_root)"
   ]
  },
  {
   "cell_type": "code",
   "execution_count": 50,
   "id": "b65baf25",
   "metadata": {},
   "outputs": [
    {
     "data": {
      "text/plain": [
       "'Common_Yellowthroat_0055_190967.jpg'"
      ]
     },
     "execution_count": 50,
     "metadata": {},
     "output_type": "execute_result"
    }
   ],
   "source": [
    "index[i].split('/')[-1]"
   ]
  }
 ],
 "metadata": {
  "kernelspec": {
   "display_name": "Python 3 (ipykernel)",
   "language": "python",
   "name": "python3"
  },
  "language_info": {
   "codemirror_mode": {
    "name": "ipython",
    "version": 3
   },
   "file_extension": ".py",
   "mimetype": "text/x-python",
   "name": "python",
   "nbconvert_exporter": "python",
   "pygments_lexer": "ipython3",
   "version": "3.9.17"
  }
 },
 "nbformat": 4,
 "nbformat_minor": 5
}
